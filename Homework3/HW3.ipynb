{
 "cells": [
  {
   "cell_type": "markdown",
   "id": "exotic-virtue",
   "metadata": {},
   "source": [
    "# Numerical Bifurcation Analysis of Large Scale Systems: HW3\n",
    "\n",
    "In the third homework we will have to compute non-trivial steady solutions of the Ginzburg-Landau equation,\n",
    "$$ \\partial_t u = \\partial_{xx}u + \\mu(u - u^3/3)\\tag{GL1}$$\n",
    "and from those solutions use natural continuation to compute the bifurcation diagram, for that branch."
   ]
  },
  {
   "cell_type": "markdown",
   "id": "missing-breakfast",
   "metadata": {},
   "source": [
    "## 1) Linking $\\varepsilon$ and $\\gamma$\n",
    "The idea is to use the knowledge of the eigenfunctions, which are the solutions in the linear case, to determine nontrivial solutions to the Ginzburg-Landau equation, after a bifurcation. We \"guess\" that the true solutions are similar to the eigenfunctions, and use this guess in the Newton iteration scheme to determine the nontrivial solution. In the last part, we have found only the trivial solution. To prevent this from happening, we will look slightly past the bifurcation point, say that $\\hat{\\mu}_k = \\mu_k ( 1 + \\gamma) = k^2\\pi^2 (1 + \\gamma)$. We also have to adjust our eigenfunction, so we set $\\hat{u}_k = \\varepsilon u_k$. The first task is to find a relation between $\\gamma$ and $\\varepsilon$.\n",
    "\n",
    "For this we are going to use a Galerkin projection. First we define $r(u) = u'' + \\mu(u - u^3/3)$, then we project $r(\\varepsilon u)$ onto the eigenvector and then integrate over the domain, that is:\n",
    "\\begin{align}\n",
    "\\int_0^1 \\sin(\\pi x) r(\\varepsilon u)\\mathrm{d}x &= \\int_0^1 \\sin(\\pi x) r(\\varepsilon \\sin (\\pi x))\\mathrm{d}x \\\\\n",
    "&= \\int_0^1 \\sin(\\pi x) (-\\pi^2 \\varepsilon \\sin (\\pi x) + \\pi^2(1+\\gamma)(\\varepsilon \\sin (\\pi x) - \\varepsilon^3 \\sin^3 (\\pi x) / 3))\\mathrm{d}x \\\\\n",
    "&= -\\pi^2 \\varepsilon \\int_0^1 \\sin^2 (\\pi x)\\mathrm{d}x + \\pi^2 \\varepsilon (1 + \\gamma)\\left(\\int_0^1 \\sin^2 (\\pi x)\\mathrm{d}x - \\dfrac{\\varepsilon^2}{3}\\int_0^1 \\sin^4(\\pi x)\\right)\\mathrm{d}x \\\\\n",
    "&= \\dfrac{\\varepsilon}{2}\\left(\\gamma + \\dfrac{\\varepsilon^2}{4}\\right) \\\\\n",
    "&= 0\n",
    "\\end{align}\n",
    "From this it follows that\n",
    "$$\\varepsilon  = 0 \\quad \\lor \\quad \\varepsilon = \\pm 2 \\sqrt{1 - \\dfrac{1}{1+\\gamma}}$$\n",
    "So we have three solutions, since only one is positive, we take that one."
   ]
  },
  {
   "cell_type": "code",
   "execution_count": 1,
   "id": "humanitarian-measure",
   "metadata": {},
   "outputs": [],
   "source": [
    "%matplotlib inline\n",
    "from nbaolss import *\n",
    "import numpy as np\n",
    "import scipy\n",
    "from scipy.linalg import eig\n",
    "import matplotlib.pyplot as plt"
   ]
  },
  {
   "cell_type": "markdown",
   "id": "spatial-volleyball",
   "metadata": {},
   "source": [
    "## 2) Calculating non-trivial solution\n",
    "\n",
    "Next, we want to find non-trivial solutions. For this we will pick a suitable starting point, for which we use the eigenvectors of the discretized linear problem. We then use Newton-Rhapson iterations to find a zero to our right hand side, which then hopefully will lead us a nontrivial solution."
   ]
  },
  {
   "cell_type": "code",
   "execution_count": 5,
   "id": "signal-sustainability",
   "metadata": {},
   "outputs": [
    {
     "name": "stdout",
     "output_type": "stream",
     "text": [
      "Newton converged after 5 iterations.\n"
     ]
    },
    {
     "data": {
      "image/png": "[encoded data removed]",
      "text/plain": [
       "<Figure size 432x288 with 1 Axes>"
      ]
     },
     "metadata": {
      "needs_background": "light"
     },
     "output_type": "display_data"
    }
   ],
   "source": [
    "# Sorts the eigenvalues. from the smallest in magnitude to the biggest\n",
    "# Also rearranges the eigenvectors in the proper way\n",
    "def sort(eig_val, eig_vec):\n",
    "    # Calculate the new indices\n",
    "    idx = np.argsort(np.abs(eig_val))\n",
    "    \n",
    "    eig_val = eig_val[idx]\n",
    "    eig_vec = eig_vec[:, idx]\n",
    "    return eig_val, eig_vec\n",
    "\n",
    "def epsilon(gamma):\n",
    "    return -2 * np.sqrt(1 - 1 / (1 + gamma))\n",
    "\n",
    "# Finds initial conditions on num_branches branches\n",
    "def init(num_branches, size):\n",
    "    gamma = 0.1\n",
    "    eps = epsilon(gamma)\n",
    "    \n",
    "    eig_val, eig_vec = eig(linGL1(size).A)\n",
    "    eig_val, eig_vec = sort(eig_val, eig_vec)\n",
    "    \n",
    "    res = np.zeros((num_branches, size))\n",
    "    for idx in range(0, num_branches):\n",
    "        u0 = 5 * eps * eig_vec[idx, :] \n",
    "        mu = (1 + gamma) * eig_val[idx]\n",
    "        res[idx, :] = zero_of_GL1(u0, size, mu)\n",
    "    return res\n",
    "\n",
    "num_branches = 1\n",
    "size = 5\n",
    "res = init(num_branches, size)\n",
    "\n",
    "grid_pts = np.linspace(0, 1, size)\n",
    "for idx in range(0, num_branches):\n",
    "    plt.plot(grid_pts, res[idx, :])"
   ]
  },
  {
   "cell_type": "markdown",
   "id": "simple-mumbai",
   "metadata": {},
   "source": [
    "## 3) Following the branch using natural continuation\n",
    "\n",
    "Now we have found, for a certain parameter, a nontrivial solution. The next step is to following this solution as the parameter changes. This will gives us the bifurcation diagram, at least locally."
   ]
  },
  {
   "cell_type": "code",
   "execution_count": 3,
   "id": "sweet-coupon",
   "metadata": {},
   "outputs": [],
   "source": [
    "def cont(mu, u0, mu_end, steps):\n",
    "    size = len(u0)\n",
    "    grid = np.linspace(0, 1, size)\n",
    "    for step in range(steps):\n",
    "        u0 = zero_of_GL1(u0, size, mu + steps * (mu_end - mu) / steps)\n",
    "        plt.plot(grid, u0)\n",
    "        "
   ]
  }
 ],
 "metadata": {
  "kernelspec": {
   "display_name": "Python 3",
   "language": "python",
   "name": "python3"
  },
  "language_info": {
   "codemirror_mode": {
    "name": "ipython",
    "version": 3
   },
   "file_extension": ".py",
   "mimetype": "text/x-python",
   "name": "python",
   "nbconvert_exporter": "python",
   "pygments_lexer": "ipython3",
   "version": "3.8.5"
  }
 },
 "nbformat": 4,
 "nbformat_minor": 5
}
