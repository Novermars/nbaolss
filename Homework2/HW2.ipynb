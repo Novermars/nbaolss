{
 "cells": [
  {
   "cell_type": "markdown",
   "id": "physical-inventory",
   "metadata": {},
   "source": [
    "# Numerical Bifurcation Analysis of Large Scale Systems HW2\n",
    "\n",
    "Consider the nonlinear parabolic equation related to the Ginzburg-Landau equation\n",
    "$$u_t = u_{xx} + \\mu(u - u^3/3),$$\n",
    "on $[0,1]$, with b.c. $u(0)=u(1)=0$, $\\mu \\in \\mathbb{R}$ and $u(t,x) \\in \\mathbb{R}$."
   ]
  },
  {
   "cell_type": "markdown",
   "id": "communist-artist",
   "metadata": {},
   "source": [
    "## 1) Steady state solutions\n",
    "For positive $\\mu$ and without the boundary conditions, we have the steady state equation $u - u^3/3 = 0$, which yields the steady state solutions\n",
    "\n",
    "* $u=0$, unstable\n",
    "\n",
    "* $u=\\sqrt{3}$, stable, \n",
    "    \n",
    "* $u=-\\sqrt{3}$, stable\n",
    "\n",
    "Where the stability follows from the linearization, which we can do according to the Hartman-Grobman theorem."
   ]
  },
  {
   "cell_type": "markdown",
   "id": "better-monster",
   "metadata": {},
   "source": [
    "## 2) Trivial solution\n",
    "For all $\\mu$, we have that the trivial solution $u\\equiv 0$ is a solution to the equation"
   ]
  },
  {
   "cell_type": "markdown",
   "id": "pediatric-wales",
   "metadata": {},
   "source": [
    "## 3) Eigenvalue problem\n",
    "For small $u$, we have that $u^3$ is much smaller, and can often be disregarded, which gives us the eigenvalue problem\n",
    "$$u'' = -\\mu u$$\n",
    "\n",
    "* If $\\mu = 0$, then we have $u'' = 0$, so $u$ is a linear function and the boundary conditions force the solution to be $u=0$, so $\\mu=0$ is not an eigenvalue.\n",
    "\n",
    "* If $\\mu < 0$, then it follows that $u(x) = C_1\\exp{\\sqrt{-\\mu}x} + C_2 \\exp{-\\sqrt{-\\mu}x}$, once again, the boundary conditions forces $u=0$, so for $\\mu < 0$ there are no solutions to the eigenvalue problem.\n",
    "\n",
    "* If $\\mu > 0$, then it follows that $u(x) = C_1\\exp{i\\sqrt{\\mu}x} + C_2 \\exp{-i\\sqrt{\\mu}x}$. For $\\mu = n^2\\pi^2$, $n \\in \\mathbb{N} \\setminus \\{ 0\\}$ we find nontrivial solutions. So we have that the eigenvalues are given by $\\{ n^2\\pi^2 : n \\in \\mathbb{N} \\setminus \\{ 0\\} \\}$.\n",
    "\n",
    "The relevance to our nonlinear equation is that since we have at the boundaries $u=0$, we have that $u$ is small close to the boundaries, so there the solution of the nonlinear equation is approximately equal to the eigenvalue problem."
   ]
  },
  {
   "cell_type": "markdown",
   "id": "banner-senegal",
   "metadata": {},
   "source": [
    "## 4) Discretization\n",
    "First we will discretize the linear equation, which is given by $u'' + \\mu u = 0$ using the standard 3-point-stencil, this gives us the difference equation for the grid point $u_n$\n",
    "$$\\dfrac{u_{n-1} - 2u_n + u_{n+1}}{h^2} + \\mu u_n = \\dfrac{u_{n-1} - (2-\\mu h^2)u_n + u_{n+1}}{h^2}= 0$$\n",
    "Only for $\\mu < 0$ we have diagonal dominance, which, since we only have solutions for $\\mu = k^2\\pi^2 > 0$, $k \\in \\mathbb{N} \\setminus \\{0\\}$, is a good thing.\n",
    "\n",
    "For the nonlinear equation $u'' + \\mu(u - u^3/3)= 0$, using again the standard 3-point-stencil, we get the discretization\n",
    "$$\\dfrac{u_{n-1} - 2u_n + u_{n+1}}{h^2} + \\mu (u_n - u^3/3) = \\dfrac{u_{n-1} - (2-\\mu h^2)u_n + u_{n+1}}{h^2} - \\mu u_n^3/3 = 0$$"
   ]
  },
  {
   "cell_type": "code",
   "execution_count": 1,
   "id": "functioning-bulgaria",
   "metadata": {},
   "outputs": [],
   "source": [
    "%matplotlib inline\n",
    "import numpy as np\n",
    "import scipy\n",
    "from scipy import sparse\n",
    "from scipy.sparse.linalg import spsolve\n",
    "import matplotlib.pyplot as plt"
   ]
  },
  {
   "cell_type": "markdown",
   "id": "residential-decade",
   "metadata": {},
   "source": [
    "## 5i) Function for the matrix form of the linearized equations without $\\mu$"
   ]
  },
  {
   "cell_type": "code",
   "execution_count": 2,
   "id": "geographic-arena",
   "metadata": {},
   "outputs": [],
   "source": [
    "def linGL1(size):\n",
    "    lower_diag = np.ones(size)\n",
    "    diag = -2 * np.ones(size)\n",
    "    upper_diag = np.ones(size)\n",
    "\n",
    "    diag_values = [lower_diag, diag, upper_diag]\n",
    "    diags = [-1, 0, 1]\n",
    "    \n",
    "    return (size + 1)**2 * scipy.sparse.spdiags(diag_values, diags, m=size,\n",
    "                                          n=size, format=\"csr\")"
   ]
  },
  {
   "cell_type": "markdown",
   "id": "sharp-sense",
   "metadata": {},
   "source": [
    "## 5ii) Function that returns the evaluation of the discretized right hand side"
   ]
  },
  {
   "cell_type": "code",
   "execution_count": 3,
   "id": "seeing-company",
   "metadata": {},
   "outputs": [],
   "source": [
    "def fGL1(u, size, mu):\n",
    "    return linGL1(size) @ u  + mu * (u  - u ** 3 / 3) "
   ]
  },
  {
   "cell_type": "markdown",
   "id": "minor-budget",
   "metadata": {},
   "source": [
    "## 5iii) Function that returns the Jacobian of the rhs"
   ]
  },
  {
   "cell_type": "code",
   "execution_count": 4,
   "id": "impressive-intersection",
   "metadata": {},
   "outputs": [],
   "source": [
    "def JacGL1(u, size, mu):\n",
    "    nonlinear_part = mu * (1 - u ** 2)\n",
    "    return linGL1(size) + scipy.sparse.diags(nonlinear_part, 0,format=\"csr\")"
   ]
  },
  {
   "cell_type": "markdown",
   "id": "infectious-facility",
   "metadata": {},
   "source": [
    "## 5iv) Testing the consistency of the function\n",
    "\n",
    "To test the consistency of the functions, we will compute $\\|\\dfrac{f(u + \\varepsilon v) - f(u)}{\\varepsilon} - J(u)v\\|$, in theory the smaller $\\varepsilon$ becomes, the closer the difference should be to zero."
   ]
  },
  {
   "cell_type": "code",
   "execution_count": 5,
   "id": "destroyed-musician",
   "metadata": {},
   "outputs": [
    {
     "data": {
      "text/plain": [
       "[<matplotlib.lines.Line2D at 0x7ff07a7ad760>]"
      ]
     },
     "execution_count": 5,
     "metadata": {},
     "output_type": "execute_result"
    },
    {
     "data": {
      "image/png": "[encoded data removed]",
      "text/plain": [
       "<Figure size 432x288 with 1 Axes>"
      ]
     },
     "metadata": {
      "needs_background": "light"
     },
     "output_type": "display_data"
    }
   ],
   "source": [
    "size = 60\n",
    "mu = -0.5\n",
    "\n",
    "u = np.random.rand(size)\n",
    "v = np.random.rand(size)\n",
    "eps = 0.1\n",
    "err = np.zeros(11)\n",
    "for idx in range(1, 12):\n",
    "    eps = eps / 10\n",
    "    approx = (fGL1(u + eps * v, size, mu) - fGL1(u, size, mu)) / eps\n",
    "    err[idx - 1] = np.linalg.norm(approx - JacGL1(u, size, mu) @ v)\n",
    "plt.plot(err)"
   ]
  },
  {
   "cell_type": "markdown",
   "id": "sticky-russell",
   "metadata": {},
   "source": [
    "# Computing the trivial solution to the steady-state Ginzburg-Landau equation"
   ]
  },
  {
   "cell_type": "code",
   "execution_count": 6,
   "id": "ethical-friendly",
   "metadata": {},
   "outputs": [
    {
     "name": "stdout",
     "output_type": "stream",
     "text": [
      "[3.30872245e-24 6.61744490e-24 1.32348898e-23 1.32348898e-23\n",
      " 6.61744490e-24]\n"
     ]
    }
   ],
   "source": [
    "# Function that computes Newton-Rhapson iterations\n",
    "# to find a zero of a function\n",
    "def newton(x0, func, jac_func, tol, max_iter):\n",
    "    iter = 1\n",
    "    norm_dx = 2 * tol\n",
    "    x = x0\n",
    "    while iter < max_iter and norm_dx > tol:\n",
    "        jac = jac_func(x)\n",
    "        dx = - spsolve(jac_func(x), func(x))\n",
    "        x += dx\n",
    "        norm_dx = np.linalg.norm(dx)\n",
    "        iter = iter + 1\n",
    "    return x\n",
    "        \n",
    "def zero_of_GL1(u0, size, mu):\n",
    "    tol = 1e-6\n",
    "    max_iter = 15\n",
    "    l_fGL1 = lambda u: fGL1(u, size, mu)\n",
    "    l_JacGL1 = lambda u: JacGL1(u, size, mu)\n",
    "    return newton(u0, l_fGL1, l_JacGL1, tol, max_iter)\n",
    "\n",
    "size = 5\n",
    "u0 = np.random.rand(size)\n",
    "mu = -0.5\n",
    "\n",
    "print(zero_of_GL1(u0, size, mu))"
   ]
  }
 ],
 "metadata": {
  "kernelspec": {
   "display_name": "Python 3",
   "language": "python",
   "name": "python3"
  },
  "language_info": {
   "codemirror_mode": {
    "name": "ipython",
    "version": 3
   },
   "file_extension": ".py",
   "mimetype": "text/x-python",
   "name": "python",
   "nbconvert_exporter": "python",
   "pygments_lexer": "ipython3",
   "version": "3.8.5"
  }
 },
 "nbformat": 4,
 "nbformat_minor": 5
}
