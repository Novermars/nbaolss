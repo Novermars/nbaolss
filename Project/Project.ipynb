{
 "cells": [
  {
   "cell_type": "markdown",
   "id": "developmental-welsh",
   "metadata": {},
   "source": [
    "# NBAOLSS: Project\n",
    "\n",
    "Chantal Rikse & Nigel Overmars"
   ]
  },
  {
   "cell_type": "code",
   "execution_count": 70,
   "id": "knowing-quantum",
   "metadata": {
    "scrolled": false
   },
   "outputs": [],
   "source": [
    "import numpy\n",
    "\n",
    "from fvm import Continuation\n",
    "from fvm import Interface\n",
    "from fvm import utils\n",
    "from fvm import plot_utils\n",
    "\n",
    "from jadapy import jdqz\n",
    "\n",
    "from fvm.JadaInterface import JadaInterface, JadaOp\n",
    "\n",
    "import matplotlib.pyplot as plt"
   ]
  },
  {
   "cell_type": "markdown",
   "id": "mature-outline",
   "metadata": {},
   "source": [
    "## a)"
   ]
  },
  {
   "cell_type": "code",
   "execution_count": 71,
   "id": "ideal-bunch",
   "metadata": {
    "scrolled": true
   },
   "outputs": [
    {
     "name": "stdout",
     "output_type": "stream",
     "text": [
      "Looking at point (0.515625, 0.515625)\n",
      "Newton corrector converged in 0 iterations with ||F||=5.603022e-06\n",
      "Lid Velocity: 0.025433\n",
      "Newton corrector converged in 0 iterations with ||F||=5.042720e-05\n",
      "Lid Velocity: 0.076298\n",
      "Newton corrector converged in 1 iterations with ||F||=1.322450e-10\n",
      "Lid Velocity: 0.178031\n",
      "Newton corrector converged in 1 iterations with ||F||=3.349971e-10\n",
      "Lid Velocity: 0.381502\n",
      "Newton corrector converged in 1 iterations with ||F||=8.119144e-09\n",
      "Lid Velocity: 0.788461\n",
      "Newton corrector converged in 1 iterations with ||F||=1.298633e-07\n",
      "Lid Velocity: 1.602410\n",
      "Newton corrector converged in 1 iterations with ||F||=2.138273e-09\n",
      "Lid Velocity: 1.000020\n",
      "Newton corrector converged in 0 iterations with ||F||=1.048031e-07\n",
      "Lid Velocity: 1.000000\n",
      "Convergence achieved onto target Lid Velocity = 1.000000\n"
     ]
    }
   ],
   "source": [
    "dim = 2\n",
    "dof = 3\n",
    "nx = 64\n",
    "ny = nx\n",
    "nz = 1\n",
    "n = dof * nx * ny * nz\n",
    "\n",
    "# Define a point of interest, not clear what this does.\n",
    "poi = (nx // 2, ny // 2)\n",
    "\n",
    "\n",
    "# Define the problem\n",
    "\n",
    "\n",
    "\n",
    "parameters = {'Problem Type': 'Lid-driven cavity',\n",
    "              # Reynolds number set at 1, determines the vicousity of the model. \n",
    "              'Reynolds Number': 1,\n",
    "              # We start at Lid velocity 0, as this result in a easy solution,\n",
    "              # namely just the constant zero sol, no speed and no pressure diff\n",
    "              'Lid Velocity': 0,\n",
    "              # Value describes the value that is traced in the continuation\n",
    "              # and time integration methods\n",
    "              'Value': lambda x: utils.create_state_mtx(x, nx, ny, nz, dof)[poi[0], poi[1], 0, 0]}\n",
    "\n",
    "# initiate the tools given to us.\n",
    "\n",
    "# the size of the box is set to (1,1,1) if no other values are given. \n",
    "interface = Interface(parameters, nx, ny, nz, dim, dof)\n",
    "\n",
    "print('Looking at point ({}, {})'.format(interface.discretization.x[poi[0]],\n",
    "                                         interface.discretization.y[poi[1]]))\n",
    "continuation = Continuation(interface, parameters)\n",
    "\n",
    "# Compute an initial guess\n",
    "x0 = numpy.zeros(dof * nx * ny * nz)\n",
    "steady_sol = continuation.continuation(x0, 'Lid Velocity', 0, 1, 0.1)[0]\n",
    "\n",
    "\n",
    "\n",
    "\n",
    "\n",
    "\n"
   ]
  },
  {
   "cell_type": "markdown",
   "id": "attractive-insert",
   "metadata": {},
   "source": [
    "## b)"
   ]
  },
  {
   "cell_type": "code",
   "execution_count": 72,
   "id": "earned-sympathy",
   "metadata": {
    "scrolled": false
   },
   "outputs": [
    {
     "name": "stdout",
     "output_type": "stream",
     "text": [
      "Newton corrector converged in 4 iterations with ||F||=3.467375e-05\n",
      "Reynolds Number: 100.977504\n",
      "Newton corrector converged in 2 iterations with ||F||=6.944243e-06\n",
      "Reynolds Number: 175.980569\n",
      "Newton corrector converged in 2 iterations with ||F||=1.632382e-05\n",
      "Reynolds Number: 288.485143\n",
      "Newton corrector converged in 2 iterations with ||F||=1.983675e-05\n",
      "Reynolds Number: 457.242008\n",
      "Newton corrector converged in 2 iterations with ||F||=3.791210e-05\n",
      "Reynolds Number: 710.377308\n",
      "Newton corrector converged in 2 iterations with ||F||=3.036580e-05\n",
      "Reynolds Number: 1090.080258\n",
      "Newton corrector converged in 1 iterations with ||F||=9.902455e-05\n",
      "Reynolds Number: 1659.634683\n",
      "Newton corrector converged in 3 iterations with ||F||=1.285885e-06\n",
      "Reynolds Number: 2798.743535\n",
      "Newton corrector converged in 1 iterations with ||F||=6.606220e-05\n",
      "Reynolds Number: 3937.852386\n",
      "Newton corrector converged in 2 iterations with ||F||=1.910483e-05\n",
      "Reynolds Number: 5937.933771\n",
      "Newton corrector converged in 0 iterations with ||F||=7.305204e-05\n",
      "Reynolds Number: 5000.000000\n",
      "Convergence achieved onto target Reynolds Number = 5000.000000\n",
      "\n",
      "Newton corrector converged in 0 iterations with ||F||=7.251192e-05\n",
      "Reynolds Number: 4900.000000\n",
      "Newton corrector converged in 0 iterations with ||F||=6.812647e-05\n",
      "Reynolds Number: 4700.000000\n",
      "Newton corrector converged in 0 iterations with ||F||=4.751797e-05\n",
      "Reynolds Number: 4300.000000\n",
      "Newton corrector converged in 1 iterations with ||F||=4.925363e-06\n",
      "Reynolds Number: 3499.967445\n",
      "Newton corrector converged in 1 iterations with ||F||=6.774225e-05\n",
      "Reynolds Number: 1899.902337\n",
      "Newton corrector converged in 3 iterations with ||F||=1.800292e-06\n",
      "Reynolds Number: -100.179044\n",
      "Newton corrector converged in 3 iterations with ||F||=2.671929e-05\n",
      "Reynolds Number: 1.981215\n",
      "Newton corrector converged in 1 iterations with ||F||=7.741256e-05\n",
      "Reynolds Number: 2.000356\n",
      "Newton corrector converged in 0 iterations with ||F||=7.767922e-05\n",
      "Reynolds Number: 2.000000\n",
      "Convergence achieved onto target Reynolds Number = 2.000000\n"
     ]
    }
   ],
   "source": [
    "\n",
    "\n",
    "# note that the continuation has already updated its internal Velocity \n",
    "# this does not need any parameter updates in the contituation object instance. \n",
    "ds = 100\n",
    "target = 5000\n",
    "steady_sol_5k, mu, data1 = continuation.continuation(steady_sol, 'Reynolds Number', 1, target, ds)\n",
    "\n",
    "print()\n",
    "\n",
    "# note that the starting value set in the continuation, actually overrides \n",
    "# the one set in the parameters of the interface/continuator\n",
    "\n",
    "# continue the solution even further\n",
    "ds = 100\n",
    "target = 10000\n",
    "steady_sol_10k, mu, data1 = continuation.continuation(steady_sol_5k, 'Reynolds Number', 5000, target, ds)"
   ]
  },
  {
   "cell_type": "markdown",
   "id": "6ddab856",
   "metadata": {},
   "source": [
    "## Steady state plot Reynolds number at 1"
   ]
  },
  {
   "cell_type": "code",
   "execution_count": 73,
   "id": "5b5753ca",
   "metadata": {},
   "outputs": [
    {
     "data": {
      "image/png": "[encoded data removed]",
      "text/plain": [
       "<Figure size 432x288 with 2 Axes>"
      ]
     },
     "metadata": {
      "needs_background": "light"
     },
     "output_type": "display_data"
    }
   ],
   "source": [
    "velocity_steady = plot_utils.create_state_mtx(steady_sol, nx, ny, nz, dof)\n",
    "plot_utils.plot_velocity_magnitude(velocity_steady[:, :, 0, 0], velocity_steady[:, :, 0, 1], interface)"
   ]
  },
  {
   "cell_type": "code",
   "execution_count": 74,
   "id": "7db8ef6f",
   "metadata": {},
   "outputs": [
    {
     "data": {
      "image/png": "[encoded data removed]",
      "text/plain": [
       "<Figure size 432x288 with 2 Axes>"
      ]
     },
     "metadata": {
      "needs_background": "light"
     },
     "output_type": "display_data"
    }
   ],
   "source": [
    "# Plot the pressure\n",
    "plot_utils.plot_value(velocity_steady[:, :, 0, 2], interface)"
   ]
  },
  {
   "cell_type": "markdown",
   "id": "28dc3b67",
   "metadata": {},
   "source": [
    "## Steady state plot Reynolds number at 5000"
   ]
  },
  {
   "cell_type": "code",
   "execution_count": 75,
   "id": "hollywood-directive",
   "metadata": {
    "scrolled": false
   },
   "outputs": [
    {
     "data": {
      "image/png": "[encoded data removed]",
      "text/plain": [
       "<Figure size 432x288 with 2 Axes>"
      ]
     },
     "metadata": {
      "needs_background": "light"
     },
     "output_type": "display_data"
    }
   ],
   "source": [
    "velocity_5k = plot_utils.create_state_mtx(steady_sol_5k, nx, ny, nz, dof)\n",
    "plot_utils.plot_velocity_magnitude(velocity_5k[:, :, 0, 0], velocity_5k[:, :, 0, 1], interface)"
   ]
  },
  {
   "cell_type": "code",
   "execution_count": 76,
   "id": "bibliographic-microphone",
   "metadata": {
    "scrolled": false
   },
   "outputs": [
    {
     "data": {
      "image/png": "[encoded data removed]",
      "text/plain": [
       "<Figure size 432x288 with 2 Axes>"
      ]
     },
     "metadata": {
      "needs_background": "light"
     },
     "output_type": "display_data"
    }
   ],
   "source": [
    "# Plot the pressure\n",
    "plot_utils.plot_value(velocity_5k[:, :, 0, 2], interface)"
   ]
  },
  {
   "cell_type": "markdown",
   "id": "e088ac7b",
   "metadata": {},
   "source": [
    "## Steady state plot Reynolds number at 10000"
   ]
  },
  {
   "cell_type": "code",
   "execution_count": 77,
   "id": "greatest-number",
   "metadata": {
    "scrolled": false
   },
   "outputs": [
    {
     "data": {
      "image/png": "[encoded data removed]",
      "text/plain": [
       "<Figure size 432x288 with 2 Axes>"
      ]
     },
     "metadata": {
      "needs_background": "light"
     },
     "output_type": "display_data"
    }
   ],
   "source": [
    "velocity_10k = plot_utils.create_state_mtx(steady_sol_10k, nx, ny, nz, dof)\n",
    "plot_utils.plot_velocity_magnitude(velocity_10k[:, :, 0, 0], velocity_10k[:, :, 0, 1], interface)"
   ]
  },
  {
   "cell_type": "code",
   "execution_count": 78,
   "id": "bibliographic-emerald",
   "metadata": {
    "scrolled": false
   },
   "outputs": [
    {
     "data": {
      "image/png": "[encoded data removed]",
      "text/plain": [
       "<Figure size 432x288 with 2 Axes>"
      ]
     },
     "metadata": {
      "needs_background": "light"
     },
     "output_type": "display_data"
    }
   ],
   "source": [
    "# Plot the pressure\n",
    "plot_utils.plot_value(velocity_10k[:, :, 0, 2], interface)"
   ]
  },
  {
   "cell_type": "markdown",
   "id": "inside-japan",
   "metadata": {},
   "source": [
    "## c)"
   ]
  },
  {
   "cell_type": "code",
   "execution_count": 52,
   "id": "encouraging-greece",
   "metadata": {
    "scrolled": false
   },
   "outputs": [
    {
     "name": "stdout",
     "output_type": "stream",
     "text": [
      "Currently looking at nx=ny=64\n",
      "Newton corrector converged in 0 iterations with ||F||=4.656277e-07\n",
      "Lid Velocity: 0.008542\n",
      "New stepsize: ds=2.000000e-01, factor=2.000000e+00\n",
      "Newton corrector converged in 0 iterations with ||F||=4.190650e-06\n",
      "Lid Velocity: 0.025626\n",
      "New stepsize: ds=4.000000e-01, factor=2.000000e+00\n",
      "Newton corrector converged in 0 iterations with ||F||=2.281576e-05\n",
      "Lid Velocity: 0.059794\n",
      "New stepsize: ds=8.000000e-01, factor=2.000000e+00\n",
      "Newton corrector status at iteration 0: ||F||=1.047662e-04, ||dx||=6.684396e-02\n",
      "Newton corrector converged in 1 iterations with ||F||=3.704063e-11\n",
      "Lid Velocity: 0.128131\n",
      "New stepsize: ds=1.600000e+00, factor=2.000000e+00\n",
      "Newton corrector status at iteration 0: ||F||=1.331695e-04, ||dx||=8.496481e-02\n",
      "Newton corrector converged in 1 iterations with ||F||=5.984698e-11\n",
      "Lid Velocity: 0.264803\n",
      "New stepsize: ds=3.200000e+00, factor=2.000000e+00\n",
      "Newton corrector status at iteration 0: ||F||=7.152010e-04, ||dx||=4.563052e-01\n",
      "Newton corrector converged in 1 iterations with ||F||=1.726143e-09\n",
      "Lid Velocity: 0.538145\n",
      "New stepsize: ds=6.400000e+00, factor=2.000000e+00\n",
      "Newton corrector status at iteration 0: ||F||=2.860780e-03, ||dx||=1.825096e+00\n",
      "Newton corrector converged in 1 iterations with ||F||=2.761465e-08\n",
      "Lid Velocity: 1.084816\n",
      "Newton corrector status at iteration 0: ||F||=2.499785e-04, ||dx||=1.594712e-01\n",
      "Newton corrector converged in 1 iterations with ||F||=2.108538e-10\n",
      "Lid Velocity: 1.000002\n",
      "Newton corrector converged in 0 iterations with ||F||=1.187976e-09\n",
      "Lid Velocity: 1.000000\n",
      "Convergence achieved onto target Lid Velocity = 1.000000\n",
      "Finished calculating starting solution for nx=ny=64\n",
      "\n",
      "Newton corrector status at iteration 0: ||F||=2.936463e+00, ||dx||=1.343840e+03\n",
      "Newton corrector status at iteration 1: ||F||=2.547817e-04, ||dx||=1.878372e-01\n",
      "Newton corrector converged in 2 iterations with ||F||=4.262148e-06\n",
      "Reynolds Number: 99.339078\n",
      "New stepsize: ds=1.500000e+02, factor=1.500000e+00\n",
      "Newton corrector status at iteration 0: ||F||=4.321234e+00, ||dx||=1.911075e+03\n",
      "Newton corrector status at iteration 1: ||F||=5.112050e-03, ||dx||=3.148223e+00\n",
      "Newton corrector status at iteration 2: ||F||=9.646857e-04, ||dx||=6.224879e-01\n",
      "Newton corrector converged in 3 iterations with ||F||=3.704844e-05\n",
      "Reynolds Number: 249.345162\n",
      "New stepsize: ds=1.500000e+02, factor=1.000000e+00\n",
      "Newton corrector status at iteration 0: ||F||=1.347360e-02, ||dx||=6.168422e+00\n",
      "Newton corrector status at iteration 1: ||F||=7.165103e-04, ||dx||=7.540470e-01\n",
      "Newton corrector converged in 2 iterations with ||F||=6.986741e-05\n",
      "Reynolds Number: 399.351264\n",
      "New stepsize: ds=2.250000e+02, factor=1.500000e+00\n",
      "Newton corrector status at iteration 0: ||F||=4.256843e-03, ||dx||=2.577943e+00\n",
      "Newton corrector status at iteration 1: ||F||=3.179442e-04, ||dx||=6.422394e-01\n",
      "Newton corrector converged in 2 iterations with ||F||=6.708282e-05\n",
      "Reynolds Number: 624.360418\n",
      "New stepsize: ds=3.375000e+02, factor=1.500000e+00\n",
      "Newton corrector status at iteration 0: ||F||=2.612719e-03, ||dx||=2.159485e+00\n",
      "Newton corrector status at iteration 1: ||F||=2.167543e-04, ||dx||=7.330015e-01\n",
      "Newton corrector converged in 2 iterations with ||F||=5.668810e-05\n",
      "Reynolds Number: 961.874151\n",
      "New stepsize: ds=5.062500e+02, factor=1.500000e+00\n",
      "Newton corrector status at iteration 0: ||F||=1.715744e-03, ||dx||=1.923676e+00\n",
      "Newton corrector status at iteration 1: ||F||=1.502376e-04, ||dx||=8.039433e-01\n",
      "Newton corrector converged in 2 iterations with ||F||=4.406069e-05\n",
      "Reynolds Number: 1468.144752\n",
      "New stepsize: ds=7.593750e+02, factor=1.500000e+00\n",
      "Newton corrector status at iteration 0: ||F||=1.184866e-03, ||dx||=1.745557e+00\n",
      "Newton corrector status at iteration 1: ||F||=1.036401e-04, ||dx||=8.095283e-01\n",
      "Newton corrector converged in 2 iterations with ||F||=3.161815e-05\n",
      "Reynolds Number: 2227.550652\n",
      "New stepsize: ds=1.139062e+03, factor=1.500000e+00\n",
      "Newton corrector status at iteration 0: ||F||=8.635205e-04, ||dx||=1.608547e+00\n",
      "Newton corrector converged in 1 iterations with ||F||=7.486779e-05\n",
      "Reynolds Number: 3366.659504\n",
      "New stepsize: ds=2.000000e+03, factor=2.000000e+00\n",
      "Newton corrector status at iteration 0: ||F||=9.189379e-04, ||dx||=1.747742e+00\n",
      "Newton corrector converged in 1 iterations with ||F||=8.598209e-05\n",
      "Reynolds Number: 5366.740889\n",
      "Newton corrector converged in 0 iterations with ||F||=7.784686e-05\n",
      "Reynolds Number: 5000.000000\n",
      "Convergence achieved onto target Reynolds Number = 5000.000000\n",
      "Cont finished\n",
      "\n",
      "\n",
      "\n",
      "Currently looking at nx=ny=128\n",
      "Newton corrector converged in 0 iterations with ||F||=1.871035e-07\n",
      "Lid Velocity: 0.007563\n",
      "New stepsize: ds=2.000000e-01, factor=2.000000e+00\n",
      "Newton corrector converged in 0 iterations with ||F||=1.683931e-06\n",
      "Lid Velocity: 0.022688\n",
      "New stepsize: ds=4.000000e-01, factor=2.000000e+00\n",
      "Newton corrector converged in 0 iterations with ||F||=9.168071e-06\n",
      "Lid Velocity: 0.052938\n",
      "New stepsize: ds=8.000000e-01, factor=2.000000e+00\n",
      "Newton corrector converged in 0 iterations with ||F||=4.209829e-05\n",
      "Lid Velocity: 0.113440\n",
      "New stepsize: ds=1.600000e+00, factor=2.000000e+00\n",
      "Newton corrector status at iteration 0: ||F||=1.798065e-04, ||dx||=4.474030e-01\n",
      "Newton corrector converged in 1 iterations with ||F||=2.095754e-10\n",
      "Lid Velocity: 0.234442\n",
      "New stepsize: ds=3.200000e+00, factor=2.000000e+00\n",
      "Newton corrector status at iteration 0: ||F||=2.031948e-04, ||dx||=5.055843e-01\n",
      "Newton corrector converged in 1 iterations with ||F||=2.676343e-10\n",
      "Lid Velocity: 0.476444\n",
      "New stepsize: ds=6.400000e+00, factor=2.000000e+00\n",
      "Newton corrector status at iteration 0: ||F||=1.149554e-03, ||dx||=2.860208e+00\n",
      "Newton corrector converged in 1 iterations with ||F||=8.565232e-09\n",
      "Lid Velocity: 0.960442\n",
      "New stepsize: ds=1.280000e+01, factor=2.000000e+00\n",
      "Newton corrector status at iteration 0: ||F||=4.598154e-03, ||dx||=1.143930e+01\n",
      "Newton corrector converged in 1 iterations with ||F||=1.369901e-07\n",
      "Lid Velocity: 1.928378\n",
      "Newton corrector status at iteration 0: ||F||=1.201493e-04, ||dx||=2.997728e-01\n",
      "Newton corrector converged in 1 iterations with ||F||=9.387985e-11\n",
      "Lid Velocity: 1.000010\n",
      "Newton corrector converged in 0 iterations with ||F||=2.923270e-08\n",
      "Lid Velocity: 1.000000\n",
      "Convergence achieved onto target Lid Velocity = 1.000000\n",
      "Finished calculating starting solution for nx=ny=128\n",
      "\n",
      "Newton corrector status at iteration 0: ||F||=2.751503e+00, ||dx||=3.007317e+03\n",
      "Newton corrector status at iteration 1: ||F||=1.293014e-04, ||dx||=4.218378e-01\n",
      "Newton corrector converged in 2 iterations with ||F||=5.011525e-06\n",
      "Reynolds Number: 99.151057\n",
      "New stepsize: ds=1.500000e+02, factor=1.500000e+00\n",
      "Newton corrector status at iteration 0: ||F||=4.092111e+00, ||dx||=4.320876e+03\n",
      "Newton corrector status at iteration 1: ||F||=2.618380e-03, ||dx||=6.388144e+00\n",
      "Newton corrector status at iteration 2: ||F||=5.030527e-04, ||dx||=1.282604e+00\n",
      "Newton corrector converged in 3 iterations with ||F||=2.004884e-05\n",
      "Reynolds Number: 249.152559\n",
      "New stepsize: ds=1.500000e+02, factor=1.000000e+00\n",
      "Newton corrector status at iteration 0: ||F||=1.266981e-02, ||dx||=1.382422e+01\n",
      "Newton corrector status at iteration 1: ||F||=3.659305e-04, ||dx||=1.537636e+00\n",
      "Newton corrector converged in 2 iterations with ||F||=3.670830e-05\n",
      "Reynolds Number: 399.154082\n",
      "New stepsize: ds=2.250000e+02, factor=1.500000e+00\n",
      "Newton corrector status at iteration 0: ||F||=3.839655e-03, ||dx||=5.475701e+00\n",
      "Newton corrector status at iteration 1: ||F||=1.624102e-04, ||dx||=1.300468e+00\n",
      "Newton corrector converged in 2 iterations with ||F||=3.453827e-05\n",
      "Reynolds Number: 624.156369\n",
      "New stepsize: ds=3.375000e+02, factor=1.500000e+00\n",
      "Newton corrector status at iteration 0: ||F||=2.275697e-03, ||dx||=4.454055e+00\n",
      "Newton corrector status at iteration 1: ||F||=1.116099e-04, ||dx||=1.476458e+00\n",
      "Newton corrector converged in 2 iterations with ||F||=2.878191e-05\n",
      "Reynolds Number: 961.659802\n",
      "New stepsize: ds=5.062500e+02, factor=1.500000e+00\n",
      "Newton corrector status at iteration 0: ||F||=1.428238e-03, ||dx||=3.914167e+00\n",
      "Newton corrector converged in 1 iterations with ||F||=7.824445e-05\n",
      "Reynolds Number: 1467.914952\n",
      "New stepsize: ds=1.012500e+03, factor=2.000000e+00\n",
      "Newton corrector status at iteration 0: ||F||=1.439954e-03, ||dx||=5.083911e+00\n",
      "Newton corrector status at iteration 1: ||F||=1.241789e-04, ||dx||=5.025532e+00\n",
      "Newton corrector status at iteration 2: ||F||=1.984656e-04, ||dx||=4.127660e-01\n",
      "Newton corrector converged in 3 iterations with ||F||=1.108049e-06\n",
      "Reynolds Number: 2480.425251\n",
      "New stepsize: ds=1.012500e+03, factor=1.000000e+00\n",
      "Newton corrector status at iteration 0: ||F||=5.352267e-04, ||dx||=3.589252e+00\n",
      "Newton corrector converged in 1 iterations with ||F||=5.611797e-05\n",
      "Reynolds Number: 3492.935551\n",
      "New stepsize: ds=2.000000e+03, factor=2.000000e+00\n",
      "Newton corrector status at iteration 0: ||F||=5.270258e-04, ||dx||=3.266154e+00\n",
      "Newton corrector converged in 1 iterations with ||F||=3.682506e-05\n",
      "Reynolds Number: 5492.955896\n",
      "Newton corrector converged in 0 iterations with ||F||=4.276832e-05\n",
      "Reynolds Number: 5000.000000\n",
      "Convergence achieved onto target Reynolds Number = 5000.000000\n",
      "Cont finished\n",
      "\n",
      "\n",
      "\n",
      "Currently looking at nx=ny=256\n",
      "Newton corrector converged in 0 iterations with ||F||=7.800295e-08\n",
      "Lid Velocity: 0.006833\n",
      "New stepsize: ds=2.000000e-01, factor=2.000000e+00\n",
      "Newton corrector converged in 0 iterations with ||F||=7.020265e-07\n",
      "Lid Velocity: 0.020500\n",
      "New stepsize: ds=4.000000e-01, factor=2.000000e+00\n",
      "Newton corrector converged in 0 iterations with ||F||=3.822144e-06\n",
      "Lid Velocity: 0.047834\n",
      "New stepsize: ds=8.000000e-01, factor=2.000000e+00\n",
      "Newton corrector converged in 0 iterations with ||F||=1.755066e-05\n",
      "Lid Velocity: 0.102500\n",
      "New stepsize: ds=1.600000e+00, factor=2.000000e+00\n",
      "Newton corrector converged in 0 iterations with ||F||=7.496083e-05\n",
      "Lid Velocity: 0.211834\n",
      "New stepsize: ds=3.200000e+00, factor=2.000000e+00\n",
      "Newton corrector status at iteration 0: ||F||=3.095937e-04, ||dx||=3.014924e+00\n",
      "Newton corrector converged in 1 iterations with ||F||=1.194285e-09\n",
      "Lid Velocity: 0.430501\n",
      "New stepsize: ds=6.400000e+00, factor=2.000000e+00\n",
      "Newton corrector status at iteration 0: ||F||=3.293338e-04, ||dx||=3.206972e+00\n",
      "Newton corrector converged in 1 iterations with ||F||=1.351283e-09\n",
      "Lid Velocity: 0.867829\n",
      "New stepsize: ds=1.280000e+01, factor=2.000000e+00\n",
      "Newton corrector status at iteration 0: ||F||=1.916972e-03, ||dx||=1.866595e+01\n",
      "Newton corrector converged in 1 iterations with ||F||=4.577142e-08\n",
      "Lid Velocity: 1.742448\n"
     ]
    },
    {
     "ename": "KeyboardInterrupt",
     "evalue": "",
     "output_type": "error",
     "traceback": [
      "\u001b[1;31m---------------------------------------------------------------------------\u001b[0m",
      "\u001b[1;31mKeyboardInterrupt\u001b[0m                         Traceback (most recent call last)",
      "\u001b[1;32m<ipython-input-52-fe1f978604c3>\u001b[0m in \u001b[0;36m<module>\u001b[1;34m\u001b[0m\n\u001b[0;32m     29\u001b[0m     \u001b[1;31m# Compute an initial guess\u001b[0m\u001b[1;33m\u001b[0m\u001b[1;33m\u001b[0m\u001b[1;33m\u001b[0m\u001b[0m\n\u001b[0;32m     30\u001b[0m     \u001b[0mx0\u001b[0m \u001b[1;33m=\u001b[0m \u001b[0mnumpy\u001b[0m\u001b[1;33m.\u001b[0m\u001b[0mzeros\u001b[0m\u001b[1;33m(\u001b[0m\u001b[0mdof\u001b[0m \u001b[1;33m*\u001b[0m \u001b[0mnx\u001b[0m \u001b[1;33m*\u001b[0m \u001b[0mny\u001b[0m \u001b[1;33m*\u001b[0m \u001b[0mnz\u001b[0m\u001b[1;33m)\u001b[0m\u001b[1;33m\u001b[0m\u001b[1;33m\u001b[0m\u001b[0m\n\u001b[1;32m---> 31\u001b[1;33m     \u001b[0msteady_sol\u001b[0m \u001b[1;33m=\u001b[0m \u001b[0mcontinuation\u001b[0m\u001b[1;33m.\u001b[0m\u001b[0mcontinuation\u001b[0m\u001b[1;33m(\u001b[0m\u001b[0mx0\u001b[0m\u001b[1;33m,\u001b[0m \u001b[1;34m'Lid Velocity'\u001b[0m\u001b[1;33m,\u001b[0m \u001b[1;36m0\u001b[0m\u001b[1;33m,\u001b[0m \u001b[1;36m1\u001b[0m\u001b[1;33m,\u001b[0m \u001b[1;36m0.1\u001b[0m\u001b[1;33m)\u001b[0m\u001b[1;33m[\u001b[0m\u001b[1;36m0\u001b[0m\u001b[1;33m]\u001b[0m\u001b[1;33m\u001b[0m\u001b[1;33m\u001b[0m\u001b[0m\n\u001b[0m\u001b[0;32m     32\u001b[0m     \u001b[0mprint\u001b[0m\u001b[1;33m(\u001b[0m\u001b[1;34m\"Finished calculating starting solution for nx=ny={}\"\u001b[0m\u001b[1;33m.\u001b[0m\u001b[0mformat\u001b[0m\u001b[1;33m(\u001b[0m\u001b[0mnx\u001b[0m\u001b[1;33m)\u001b[0m\u001b[1;33m)\u001b[0m\u001b[1;33m\u001b[0m\u001b[1;33m\u001b[0m\u001b[0m\n\u001b[0;32m     33\u001b[0m     \u001b[0mprint\u001b[0m\u001b[1;33m(\u001b[0m\u001b[1;33m)\u001b[0m\u001b[1;33m\u001b[0m\u001b[1;33m\u001b[0m\u001b[0m\n",
      "\u001b[1;32mc:\\users\\machiel\\appdata\\local\\programs\\python\\python39\\lib\\site-packages\\fvm\\Continuation.py\u001b[0m in \u001b[0;36mcontinuation\u001b[1;34m(self, x0, parameter_name, start, target, ds)\u001b[0m\n\u001b[0;32m    281\u001b[0m             \u001b[1;32mif\u001b[0m \u001b[1;33m(\u001b[0m\u001b[0mmu\u001b[0m \u001b[1;33m>=\u001b[0m \u001b[0mtarget\u001b[0m \u001b[1;32mand\u001b[0m \u001b[0mmu0\u001b[0m \u001b[1;33m<\u001b[0m \u001b[0mtarget\u001b[0m\u001b[1;33m)\u001b[0m \u001b[1;32mor\u001b[0m \u001b[1;33m(\u001b[0m\u001b[0mmu\u001b[0m \u001b[1;33m<=\u001b[0m \u001b[0mtarget\u001b[0m \u001b[1;32mand\u001b[0m \u001b[0mmu0\u001b[0m \u001b[1;33m>\u001b[0m \u001b[0mtarget\u001b[0m\u001b[1;33m)\u001b[0m\u001b[1;33m:\u001b[0m\u001b[1;33m\u001b[0m\u001b[1;33m\u001b[0m\u001b[0m\n\u001b[0;32m    282\u001b[0m                 \u001b[1;31m# Converge onto the end point\u001b[0m\u001b[1;33m\u001b[0m\u001b[1;33m\u001b[0m\u001b[1;33m\u001b[0m\u001b[0m\n\u001b[1;32m--> 283\u001b[1;33m                 \u001b[0mx\u001b[0m\u001b[1;33m,\u001b[0m \u001b[0mmu\u001b[0m \u001b[1;33m=\u001b[0m \u001b[0mself\u001b[0m\u001b[1;33m.\u001b[0m\u001b[0mconverge\u001b[0m\u001b[1;33m(\u001b[0m\u001b[0mparameter_name\u001b[0m\u001b[1;33m,\u001b[0m \u001b[0mx\u001b[0m\u001b[1;33m,\u001b[0m \u001b[0mmu\u001b[0m\u001b[1;33m,\u001b[0m \u001b[0mdx\u001b[0m\u001b[1;33m,\u001b[0m \u001b[0mdmu\u001b[0m\u001b[1;33m,\u001b[0m \u001b[0mtarget\u001b[0m\u001b[1;33m,\u001b[0m \u001b[0mds\u001b[0m\u001b[1;33m,\u001b[0m \u001b[0mmaxit\u001b[0m\u001b[1;33m)\u001b[0m\u001b[1;33m\u001b[0m\u001b[1;33m\u001b[0m\u001b[0m\n\u001b[0m\u001b[0;32m    284\u001b[0m \u001b[1;33m\u001b[0m\u001b[0m\n\u001b[0;32m    285\u001b[0m                 \u001b[0mself\u001b[0m\u001b[1;33m.\u001b[0m\u001b[0mstore_data\u001b[0m\u001b[1;33m(\u001b[0m\u001b[0mdata\u001b[0m\u001b[1;33m,\u001b[0m \u001b[0mx\u001b[0m\u001b[1;33m,\u001b[0m \u001b[0mmu\u001b[0m\u001b[1;33m)\u001b[0m\u001b[1;33m\u001b[0m\u001b[1;33m\u001b[0m\u001b[0m\n",
      "\u001b[1;32mc:\\users\\machiel\\appdata\\local\\programs\\python\\python39\\lib\\site-packages\\fvm\\Continuation.py\u001b[0m in \u001b[0;36mconverge\u001b[1;34m(self, parameter_name, x, mu, dx, dmu, target, ds, maxit)\u001b[0m\n\u001b[0;32m    191\u001b[0m             \u001b[1;31m# Secant method\u001b[0m\u001b[1;33m\u001b[0m\u001b[1;33m\u001b[0m\u001b[1;33m\u001b[0m\u001b[0m\n\u001b[0;32m    192\u001b[0m             \u001b[0mds\u001b[0m \u001b[1;33m=\u001b[0m \u001b[1;36m1\u001b[0m \u001b[1;33m/\u001b[0m \u001b[0mdmu\u001b[0m \u001b[1;33m*\u001b[0m \u001b[1;33m(\u001b[0m\u001b[0mtarget\u001b[0m \u001b[1;33m-\u001b[0m \u001b[0mmu\u001b[0m\u001b[1;33m)\u001b[0m\u001b[1;33m\u001b[0m\u001b[1;33m\u001b[0m\u001b[0m\n\u001b[1;32m--> 193\u001b[1;33m             \u001b[0mx\u001b[0m\u001b[1;33m,\u001b[0m \u001b[0mmu\u001b[0m\u001b[1;33m,\u001b[0m \u001b[0mdx\u001b[0m\u001b[1;33m,\u001b[0m \u001b[0mdmu\u001b[0m\u001b[1;33m,\u001b[0m \u001b[0mds\u001b[0m \u001b[1;33m=\u001b[0m \u001b[0mself\u001b[0m\u001b[1;33m.\u001b[0m\u001b[0mstep\u001b[0m\u001b[1;33m(\u001b[0m\u001b[0mparameter_name\u001b[0m\u001b[1;33m,\u001b[0m \u001b[0mx\u001b[0m\u001b[1;33m,\u001b[0m \u001b[0mmu\u001b[0m\u001b[1;33m,\u001b[0m \u001b[0mdx\u001b[0m\u001b[1;33m,\u001b[0m \u001b[0mdmu\u001b[0m\u001b[1;33m,\u001b[0m \u001b[0mds\u001b[0m\u001b[1;33m)\u001b[0m\u001b[1;33m\u001b[0m\u001b[1;33m\u001b[0m\u001b[0m\n\u001b[0m\u001b[0;32m    194\u001b[0m \u001b[1;33m\u001b[0m\u001b[0m\n\u001b[0;32m    195\u001b[0m         \u001b[1;32mreturn\u001b[0m \u001b[0mx\u001b[0m\u001b[1;33m,\u001b[0m \u001b[0mmu\u001b[0m\u001b[1;33m\u001b[0m\u001b[1;33m\u001b[0m\u001b[0m\n",
      "\u001b[1;32mc:\\users\\machiel\\appdata\\local\\programs\\python\\python39\\lib\\site-packages\\fvm\\Continuation.py\u001b[0m in \u001b[0;36mstep\u001b[1;34m(self, parameter_name, x, mu, dx, dmu, ds)\u001b[0m\n\u001b[0;32m    206\u001b[0m \u001b[1;33m\u001b[0m\u001b[0m\n\u001b[0;32m    207\u001b[0m         \u001b[1;31m# Corrector (2.2.9 and onward)\u001b[0m\u001b[1;33m\u001b[0m\u001b[1;33m\u001b[0m\u001b[1;33m\u001b[0m\u001b[0m\n\u001b[1;32m--> 208\u001b[1;33m         \u001b[0mx\u001b[0m\u001b[1;33m,\u001b[0m \u001b[0mmu\u001b[0m \u001b[1;33m=\u001b[0m \u001b[0mself\u001b[0m\u001b[1;33m.\u001b[0m\u001b[0mnewtoncorrector\u001b[0m\u001b[1;33m(\u001b[0m\u001b[0mparameter_name\u001b[0m\u001b[1;33m,\u001b[0m \u001b[0mds\u001b[0m\u001b[1;33m,\u001b[0m \u001b[0mx\u001b[0m\u001b[1;33m,\u001b[0m \u001b[0mx0\u001b[0m\u001b[1;33m,\u001b[0m \u001b[0mmu\u001b[0m\u001b[1;33m,\u001b[0m \u001b[0mmu0\u001b[0m\u001b[1;33m)\u001b[0m\u001b[1;33m\u001b[0m\u001b[1;33m\u001b[0m\u001b[0m\n\u001b[0m\u001b[0;32m    209\u001b[0m \u001b[1;33m\u001b[0m\u001b[0m\n\u001b[0;32m    210\u001b[0m         \u001b[1;32mif\u001b[0m \u001b[0mmu\u001b[0m \u001b[1;33m==\u001b[0m \u001b[0mmu0\u001b[0m\u001b[1;33m:\u001b[0m\u001b[1;33m\u001b[0m\u001b[1;33m\u001b[0m\u001b[0m\n",
      "\u001b[1;32mc:\\users\\machiel\\appdata\\local\\programs\\python\\python39\\lib\\site-packages\\fvm\\Continuation.py\u001b[0m in \u001b[0;36mnewtoncorrector\u001b[1;34m(self, parameter_name, ds, x, x0, mu, mu0)\u001b[0m\n\u001b[0;32m     76\u001b[0m             \u001b[0mdflval\u001b[0m \u001b[1;33m=\u001b[0m \u001b[0mself\u001b[0m\u001b[1;33m.\u001b[0m\u001b[0minterface\u001b[0m\u001b[1;33m.\u001b[0m\u001b[0mrhs\u001b[0m\u001b[1;33m(\u001b[0m\u001b[0mx\u001b[0m\u001b[1;33m)\u001b[0m\u001b[1;33m\u001b[0m\u001b[1;33m\u001b[0m\u001b[0m\n\u001b[0;32m     77\u001b[0m             \u001b[0mself\u001b[0m\u001b[1;33m.\u001b[0m\u001b[0minterface\u001b[0m\u001b[1;33m.\u001b[0m\u001b[0mset_parameter\u001b[0m\u001b[1;33m(\u001b[0m\u001b[0mparameter_name\u001b[0m\u001b[1;33m,\u001b[0m \u001b[0mmu\u001b[0m\u001b[1;33m)\u001b[0m\u001b[1;33m\u001b[0m\u001b[1;33m\u001b[0m\u001b[0m\n\u001b[1;32m---> 78\u001b[1;33m             \u001b[0mfval\u001b[0m \u001b[1;33m=\u001b[0m \u001b[0mself\u001b[0m\u001b[1;33m.\u001b[0m\u001b[0minterface\u001b[0m\u001b[1;33m.\u001b[0m\u001b[0mrhs\u001b[0m\u001b[1;33m(\u001b[0m\u001b[0mx\u001b[0m\u001b[1;33m)\u001b[0m\u001b[1;33m\u001b[0m\u001b[1;33m\u001b[0m\u001b[0m\n\u001b[0m\u001b[0;32m     79\u001b[0m             \u001b[0mdflval\u001b[0m \u001b[1;33m=\u001b[0m \u001b[1;33m(\u001b[0m\u001b[0mdflval\u001b[0m \u001b[1;33m-\u001b[0m \u001b[0mfval\u001b[0m\u001b[1;33m)\u001b[0m \u001b[1;33m/\u001b[0m \u001b[0mself\u001b[0m\u001b[1;33m.\u001b[0m\u001b[0mdelta\u001b[0m\u001b[1;33m\u001b[0m\u001b[1;33m\u001b[0m\u001b[0m\n\u001b[0;32m     80\u001b[0m \u001b[1;33m\u001b[0m\u001b[0m\n",
      "\u001b[1;32mc:\\users\\machiel\\appdata\\local\\programs\\python\\python39\\lib\\site-packages\\fvm\\Interface.py\u001b[0m in \u001b[0;36mrhs\u001b[1;34m(self, state)\u001b[0m\n\u001b[0;32m     42\u001b[0m     \u001b[1;32mdef\u001b[0m \u001b[0mrhs\u001b[0m\u001b[1;33m(\u001b[0m\u001b[0mself\u001b[0m\u001b[1;33m,\u001b[0m \u001b[0mstate\u001b[0m\u001b[1;33m)\u001b[0m\u001b[1;33m:\u001b[0m\u001b[1;33m\u001b[0m\u001b[1;33m\u001b[0m\u001b[0m\n\u001b[0;32m     43\u001b[0m         \u001b[1;34m'''Right-hand side in M * du / dt = F(u).'''\u001b[0m\u001b[1;33m\u001b[0m\u001b[1;33m\u001b[0m\u001b[0m\n\u001b[1;32m---> 44\u001b[1;33m         \u001b[1;32mreturn\u001b[0m \u001b[0mself\u001b[0m\u001b[1;33m.\u001b[0m\u001b[0mdiscretization\u001b[0m\u001b[1;33m.\u001b[0m\u001b[0mrhs\u001b[0m\u001b[1;33m(\u001b[0m\u001b[0mstate\u001b[0m\u001b[1;33m)\u001b[0m\u001b[1;33m\u001b[0m\u001b[1;33m\u001b[0m\u001b[0m\n\u001b[0m\u001b[0;32m     45\u001b[0m \u001b[1;33m\u001b[0m\u001b[0m\n\u001b[0;32m     46\u001b[0m     \u001b[1;32mdef\u001b[0m \u001b[0mjacobian\u001b[0m\u001b[1;33m(\u001b[0m\u001b[0mself\u001b[0m\u001b[1;33m,\u001b[0m \u001b[0mstate\u001b[0m\u001b[1;33m)\u001b[0m\u001b[1;33m:\u001b[0m\u001b[1;33m\u001b[0m\u001b[1;33m\u001b[0m\u001b[0m\n",
      "\u001b[1;32mc:\\users\\machiel\\appdata\\local\\programs\\python\\python39\\lib\\site-packages\\fvm\\Discretization.py\u001b[0m in \u001b[0;36mrhs\u001b[1;34m(self, state)\u001b[0m\n\u001b[0;32m    179\u001b[0m \u001b[1;33m\u001b[0m\u001b[0m\n\u001b[0;32m    180\u001b[0m         \u001b[1;32mif\u001b[0m \u001b[0mself\u001b[0m\u001b[1;33m.\u001b[0m\u001b[0mrecompute_linear_part\u001b[0m\u001b[1;33m:\u001b[0m\u001b[1;33m\u001b[0m\u001b[1;33m\u001b[0m\u001b[0m\n\u001b[1;32m--> 181\u001b[1;33m             \u001b[0mself\u001b[0m\u001b[1;33m.\u001b[0m\u001b[0matom\u001b[0m \u001b[1;33m=\u001b[0m \u001b[0mself\u001b[0m\u001b[1;33m.\u001b[0m\u001b[0mlinear_part\u001b[0m\u001b[1;33m(\u001b[0m\u001b[1;33m)\u001b[0m\u001b[1;33m\u001b[0m\u001b[1;33m\u001b[0m\u001b[0m\n\u001b[0m\u001b[0;32m    182\u001b[0m             \u001b[0mself\u001b[0m\u001b[1;33m.\u001b[0m\u001b[0mfrc\u001b[0m \u001b[1;33m=\u001b[0m \u001b[0mself\u001b[0m\u001b[1;33m.\u001b[0m\u001b[0mboundaries\u001b[0m\u001b[1;33m(\u001b[0m\u001b[0mself\u001b[0m\u001b[1;33m.\u001b[0m\u001b[0matom\u001b[0m\u001b[1;33m)\u001b[0m\u001b[1;33m\u001b[0m\u001b[1;33m\u001b[0m\u001b[0m\n\u001b[0;32m    183\u001b[0m             \u001b[0mself\u001b[0m\u001b[1;33m.\u001b[0m\u001b[0mrecompute_linear_part\u001b[0m \u001b[1;33m=\u001b[0m \u001b[1;32mFalse\u001b[0m\u001b[1;33m\u001b[0m\u001b[1;33m\u001b[0m\u001b[0m\n",
      "\u001b[1;32mc:\\users\\machiel\\appdata\\local\\programs\\python\\python39\\lib\\site-packages\\fvm\\Discretization.py\u001b[0m in \u001b[0;36mlinear_part\u001b[1;34m(self)\u001b[0m\n\u001b[0;32m    110\u001b[0m \u001b[1;33m\u001b[0m\u001b[0m\n\u001b[0;32m    111\u001b[0m         \u001b[1;32mif\u001b[0m \u001b[0mself\u001b[0m\u001b[1;33m.\u001b[0m\u001b[0mdim\u001b[0m \u001b[1;33m==\u001b[0m \u001b[1;36m2\u001b[0m\u001b[1;33m:\u001b[0m\u001b[1;33m\u001b[0m\u001b[1;33m\u001b[0m\u001b[0m\n\u001b[1;32m--> 112\u001b[1;33m             \u001b[1;32mreturn\u001b[0m \u001b[0mself\u001b[0m\u001b[1;33m.\u001b[0m\u001b[0m_linear_part_2D\u001b[0m\u001b[1;33m(\u001b[0m\u001b[1;33m)\u001b[0m\u001b[1;33m\u001b[0m\u001b[1;33m\u001b[0m\u001b[0m\n\u001b[0m\u001b[0;32m    113\u001b[0m         \u001b[1;32mreturn\u001b[0m \u001b[0mself\u001b[0m\u001b[1;33m.\u001b[0m\u001b[0m_linear_part_3D\u001b[0m\u001b[1;33m(\u001b[0m\u001b[1;33m)\u001b[0m\u001b[1;33m\u001b[0m\u001b[1;33m\u001b[0m\u001b[0m\n\u001b[0;32m    114\u001b[0m \u001b[1;33m\u001b[0m\u001b[0m\n",
      "\u001b[1;32mc:\\users\\machiel\\appdata\\local\\programs\\python\\python39\\lib\\site-packages\\fvm\\Discretization.py\u001b[0m in \u001b[0;36m_linear_part_2D\u001b[1;34m(self)\u001b[0m\n\u001b[0;32m    127\u001b[0m                          + self.v_xx() + self.v_yy()) \\\n\u001b[0;32m    128\u001b[0m             \u001b[1;33m-\u001b[0m \u001b[1;33m(\u001b[0m\u001b[0mself\u001b[0m\u001b[1;33m.\u001b[0m\u001b[0mp_x\u001b[0m\u001b[1;33m(\u001b[0m\u001b[1;33m)\u001b[0m \u001b[1;33m+\u001b[0m \u001b[0mself\u001b[0m\u001b[1;33m.\u001b[0m\u001b[0mp_y\u001b[0m\u001b[1;33m(\u001b[0m\u001b[1;33m)\u001b[0m\u001b[1;33m)\u001b[0m\u001b[0;31m \u001b[0m\u001b[0;31m\\\u001b[0m\u001b[1;33m\u001b[0m\u001b[1;33m\u001b[0m\u001b[0m\n\u001b[1;32m--> 129\u001b[1;33m             \u001b[1;33m+\u001b[0m \u001b[0mself\u001b[0m\u001b[1;33m.\u001b[0m\u001b[0mdiv\u001b[0m\u001b[1;33m(\u001b[0m\u001b[1;33m)\u001b[0m\u001b[1;33m\u001b[0m\u001b[1;33m\u001b[0m\u001b[0m\n\u001b[0m\u001b[0;32m    130\u001b[0m \u001b[1;33m\u001b[0m\u001b[0m\n\u001b[0;32m    131\u001b[0m         \u001b[1;32mif\u001b[0m \u001b[0mself\u001b[0m\u001b[1;33m.\u001b[0m\u001b[0mdof\u001b[0m \u001b[1;33m>\u001b[0m \u001b[1;36m3\u001b[0m\u001b[1;33m:\u001b[0m\u001b[1;33m\u001b[0m\u001b[1;33m\u001b[0m\u001b[0m\n",
      "\u001b[1;32mc:\\users\\machiel\\appdata\\local\\programs\\python\\python39\\lib\\site-packages\\fvm\\Discretization.py\u001b[0m in \u001b[0;36mdiv\u001b[1;34m(self)\u001b[0m\n\u001b[0;32m    658\u001b[0m     \u001b[1;32mdef\u001b[0m \u001b[0mdiv\u001b[0m\u001b[1;33m(\u001b[0m\u001b[0mself\u001b[0m\u001b[1;33m)\u001b[0m\u001b[1;33m:\u001b[0m\u001b[1;33m\u001b[0m\u001b[1;33m\u001b[0m\u001b[0m\n\u001b[0;32m    659\u001b[0m         \u001b[1;32mif\u001b[0m \u001b[0mself\u001b[0m\u001b[1;33m.\u001b[0m\u001b[0mdim\u001b[0m \u001b[1;33m==\u001b[0m \u001b[1;36m2\u001b[0m\u001b[1;33m:\u001b[0m\u001b[1;33m\u001b[0m\u001b[1;33m\u001b[0m\u001b[0m\n\u001b[1;32m--> 660\u001b[1;33m             \u001b[1;32mreturn\u001b[0m \u001b[0mself\u001b[0m\u001b[1;33m.\u001b[0m\u001b[0mu_x\u001b[0m\u001b[1;33m(\u001b[0m\u001b[1;33m)\u001b[0m \u001b[1;33m+\u001b[0m \u001b[0mself\u001b[0m\u001b[1;33m.\u001b[0m\u001b[0mv_y\u001b[0m\u001b[1;33m(\u001b[0m\u001b[1;33m)\u001b[0m\u001b[1;33m\u001b[0m\u001b[1;33m\u001b[0m\u001b[0m\n\u001b[0m\u001b[0;32m    661\u001b[0m         \u001b[1;32mreturn\u001b[0m \u001b[0mself\u001b[0m\u001b[1;33m.\u001b[0m\u001b[0mu_x\u001b[0m\u001b[1;33m(\u001b[0m\u001b[1;33m)\u001b[0m \u001b[1;33m+\u001b[0m \u001b[0mself\u001b[0m\u001b[1;33m.\u001b[0m\u001b[0mv_y\u001b[0m\u001b[1;33m(\u001b[0m\u001b[1;33m)\u001b[0m \u001b[1;33m+\u001b[0m \u001b[0mself\u001b[0m\u001b[1;33m.\u001b[0m\u001b[0mw_z\u001b[0m\u001b[1;33m(\u001b[0m\u001b[1;33m)\u001b[0m\u001b[1;33m\u001b[0m\u001b[1;33m\u001b[0m\u001b[0m\n\u001b[0;32m    662\u001b[0m \u001b[1;33m\u001b[0m\u001b[0m\n",
      "\u001b[1;32mc:\\users\\machiel\\appdata\\local\\programs\\python\\python39\\lib\\site-packages\\fvm\\Discretization.py\u001b[0m in \u001b[0;36mv_y\u001b[1;34m(self)\u001b[0m\n\u001b[0;32m    623\u001b[0m             \u001b[1;32mfor\u001b[0m \u001b[0mj\u001b[0m \u001b[1;32min\u001b[0m \u001b[0mrange\u001b[0m\u001b[1;33m(\u001b[0m\u001b[0mself\u001b[0m\u001b[1;33m.\u001b[0m\u001b[0mny\u001b[0m\u001b[1;33m)\u001b[0m\u001b[1;33m:\u001b[0m\u001b[1;33m\u001b[0m\u001b[1;33m\u001b[0m\u001b[0m\n\u001b[0;32m    624\u001b[0m                 \u001b[1;32mfor\u001b[0m \u001b[0mk\u001b[0m \u001b[1;32min\u001b[0m \u001b[0mrange\u001b[0m\u001b[1;33m(\u001b[0m\u001b[0mself\u001b[0m\u001b[1;33m.\u001b[0m\u001b[0mnz\u001b[0m\u001b[1;33m)\u001b[0m\u001b[1;33m:\u001b[0m\u001b[1;33m\u001b[0m\u001b[1;33m\u001b[0m\u001b[0m\n\u001b[1;32m--> 625\u001b[1;33m                     \u001b[0mDiscretization\u001b[0m\u001b[1;33m.\u001b[0m\u001b[0m_backward_u_x\u001b[0m\u001b[1;33m(\u001b[0m\u001b[0matom\u001b[0m\u001b[1;33m[\u001b[0m\u001b[0mi\u001b[0m\u001b[1;33m,\u001b[0m \u001b[0mj\u001b[0m\u001b[1;33m,\u001b[0m \u001b[0mk\u001b[0m\u001b[1;33m,\u001b[0m \u001b[0mself\u001b[0m\u001b[1;33m.\u001b[0m\u001b[0mdim\u001b[0m\u001b[1;33m,\u001b[0m \u001b[1;36m1\u001b[0m\u001b[1;33m,\u001b[0m \u001b[1;36m1\u001b[0m\u001b[1;33m,\u001b[0m \u001b[1;33m:\u001b[0m\u001b[1;33m,\u001b[0m \u001b[1;36m1\u001b[0m\u001b[1;33m]\u001b[0m\u001b[1;33m,\u001b[0m \u001b[0mj\u001b[0m\u001b[1;33m,\u001b[0m \u001b[0mi\u001b[0m\u001b[1;33m,\u001b[0m \u001b[0mk\u001b[0m\u001b[1;33m,\u001b[0m \u001b[0mself\u001b[0m\u001b[1;33m.\u001b[0m\u001b[0my\u001b[0m\u001b[1;33m,\u001b[0m \u001b[0mself\u001b[0m\u001b[1;33m.\u001b[0m\u001b[0mx\u001b[0m\u001b[1;33m,\u001b[0m \u001b[0mself\u001b[0m\u001b[1;33m.\u001b[0m\u001b[0mz\u001b[0m\u001b[1;33m)\u001b[0m\u001b[1;33m\u001b[0m\u001b[1;33m\u001b[0m\u001b[0m\n\u001b[0m\u001b[0;32m    626\u001b[0m         \u001b[1;32mreturn\u001b[0m \u001b[0matom\u001b[0m\u001b[1;33m\u001b[0m\u001b[1;33m\u001b[0m\u001b[0m\n\u001b[0;32m    627\u001b[0m \u001b[1;33m\u001b[0m\u001b[0m\n",
      "\u001b[1;31mKeyboardInterrupt\u001b[0m: "
     ]
    }
   ],
   "source": [
    "sizes = [64, 128, 256]#, 512]\n",
    "dim = 2\n",
    "dof = 3\n",
    "nz = 1\n",
    "\n",
    "for nx in sizes:\n",
    "    print(\"Currently looking at nx=ny={}\".format(nx))\n",
    "    ny = nx\n",
    "    n = dof * nx * ny * nz\n",
    "    poi = (nx // 2 - 1, ny // 4 - 1)\n",
    "\n",
    "    # luckily the FVM lib supports grid strechting.\n",
    "    parameters = {'Problem Type': 'Lid-driven cavity',\n",
    "              'Reynolds Number': 1,\n",
    "              'Lid Velocity': 0,\n",
    "              'Grid Stretching Factor': 1.5,\n",
    "              'Verbose': True,\n",
    "              'Value': lambda x: utils.create_state_mtx(x, nx, ny, nz, dof)[poi[0], poi[1], 0, 0]}\n",
    "\n",
    "    interface = Interface(parameters, nx, ny, nz, dim, dof)\n",
    "\n",
    "    continuation = Continuation(interface, parameters)\n",
    "\n",
    "    # The initial zero sol. \n",
    "    x0 = numpy.zeros(dof * nx * ny * nz)\n",
    "    # Continue this exact sol to the correct Lid velocity.\n",
    "    steady_sol = continuation.continuation(x0, 'Lid Velocity', 0, 1, 0.1)[0]\n",
    "    print(\"Finished calculating starting solution for nx=ny={}\".format(nx))\n",
    "    print()\n",
    "    \n",
    "    # Continue the found branch.\n",
    "    ds = 100\n",
    "    target = 5000\n",
    "    steady_sol_5k, mu, data1 = continuation.continuation(steady_sol, 'Reynolds Number', 0, target, ds)\n",
    "    print(\"Cont finished\")\n",
    "    print()\n",
    "    print()\n",
    "    print()\n",
    "    \n"
   ]
  },
  {
   "cell_type": "markdown",
   "id": "important-junior",
   "metadata": {},
   "source": [
    "We observe that for bigger problem sizes, we are taking bigger steps in our Newton algorithm, i.e. $\\|dx\\|$ is bigger."
   ]
  },
  {
   "cell_type": "markdown",
   "id": "62351df5",
   "metadata": {},
   "source": [
    "## d)"
   ]
  },
  {
   "cell_type": "markdown",
   "id": "95ed6259",
   "metadata": {},
   "source": [
    "Determine the linear stability of the steady solutions over the intervalRe= 104using the JDQZalgorithm forN=M= 64.  Which bifurcation does occur on this branch and at what value ofRe, sayRec?  Plot the eigenvector(s) at this bifurcation, showing which perturbation patterns areamplified nearRe=Rec.  (Hint: Use an initial target of3i.)"
   ]
  },
  {
   "cell_type": "code",
   "execution_count": null,
   "id": "adf2aa1d",
   "metadata": {
    "scrolled": false
   },
   "outputs": [
    {
     "name": "stdout",
     "output_type": "stream",
     "text": [
      "(34, 34)\n",
      "Newton corrector converged in 0 iterations with ||F||=1.420339e-05\n",
      "Lid Velocity: 0.049251\n",
      "Newton corrector converged in 1 iterations with ||F||=2.890874e-05\n",
      "Lid Velocity: 0.147991\n",
      "Newton corrector converged in 3 iterations with ||F||=8.904176e-06\n",
      "Lid Velocity: 0.344481\n",
      "Newton corrector converged in 1 iterations with ||F||=8.763366e-05\n",
      "Lid Velocity: 0.541279\n",
      "Newton corrector converged in 2 iterations with ||F||=1.855526e-05\n",
      "Lid Velocity: 0.933940\n",
      "Newton corrector converged in 2 iterations with ||F||=1.794743e-05\n",
      "Lid Velocity: 1.521928\n",
      "Newton corrector converged in 1 iterations with ||F||=2.489279e-07\n",
      "Lid Velocity: 1.000118\n",
      "Newton corrector converged in 0 iterations with ||F||=5.043207e-07\n",
      "Lid Velocity: 1.000000\n",
      "Convergence achieved onto target Lid Velocity = 1.000000\n",
      "Finished calculating starting solution for nx=ny=70\n",
      "\n",
      "Newton corrector converged in 0 iterations with ||F||=5.237041e-06\n",
      "Reynolds Number: 1040.000000\n",
      "Newton corrector converged in 0 iterations with ||F||=4.355343e-05\n",
      "Reynolds Number: 1120.000000\n",
      "Newton corrector converged in 1 iterations with ||F||=2.897332e-06\n",
      "Reynolds Number: 1280.005442\n",
      "Newton corrector converged in 1 iterations with ||F||=2.432160e-06\n",
      "Reynolds Number: 1600.016327\n",
      "Newton corrector converged in 1 iterations with ||F||=2.119850e-05\n",
      "Reynolds Number: 2240.038097\n",
      "Newton corrector converged in 1 iterations with ||F||=6.900174e-05\n",
      "Reynolds Number: 3520.081636\n",
      "Newton corrector converged in 1 iterations with ||F||=7.582004e-05\n",
      "Reynolds Number: 5520.149667\n",
      "Newton corrector converged in 2 iterations with ||F||=7.373356e-06\n",
      "Reynolds Number: 7520.217698\n",
      "Newton corrector converged in 1 iterations with ||F||=9.124747e-05\n",
      "Reynolds Number: 9520.285728\n",
      "Newton corrector converged in 0 iterations with ||F||=2.790919e-05\n",
      "Reynolds Number: 8000.000000\n",
      "Convergence achieved onto target Reynolds Number = 8000.000000\n",
      "start eigenvalue calc...\n",
      "Step:    1, subspace dimension:   1, eigenvalue estimate: -1.569818e+04 + -2.820135e+03i, residual norm: 2.001922e-04\n"
     ]
    }
   ],
   "source": [
    "\n",
    "import numpy\n",
    "\n",
    "from fvm import Continuation\n",
    "from fvm import Interface\n",
    "from fvm import utils\n",
    "from fvm import plot_utils\n",
    "\n",
    "from jadapy import jdqz\n",
    "\n",
    "from fvm.JadaInterface import JadaInterface, JadaOp\n",
    "\n",
    "import matplotlib.pyplot as plt\n",
    "\n",
    "# Obtain the 4k steady state solution. \n",
    "dim = 2\n",
    "dof = 3\n",
    "nx = 70\n",
    "ny = nx\n",
    "nz = 1\n",
    "n = dof * nx * ny * nz\n",
    "\n",
    "# Define a point of interest\n",
    "poi = (nx // 2 -1 , ny // 2 -1 )\n",
    "print(poi)\n",
    "\n",
    "\n",
    "\n",
    "# config\n",
    "# set the Reynold numbers for which the linear stability analysis is preformed.\n",
    "# set how many eigenvalue we want to calculate per case. \n",
    "starting_re = 1000\n",
    "eigs_per_calc = 10\n",
    "\n",
    "\n",
    "\n",
    "\n",
    "#targets = [1500,2000,2500,3000]\n",
    "#targets = [3000,3500,4000,4500,5000]\n",
    "#targets = [7000,7500,8000,8500,9000]\n",
    "\n",
    "# At the moment, using a nx&ny higher than 50 result in a no-error no-info crash. \n",
    "# This is unbelievabily annoying, and no easy config change seems to fix this. \n",
    "\n",
    "# Stripping away the Jada interface does no good, besides making convergence take \n",
    "# even longer or destroying it completely\n",
    "\n",
    "# It seems to be realated to how ill-conditioned the problem becomes. \n",
    "# As the 'norm during normalization' approaches zero\n",
    "\n",
    "# Also fun is the amount of GMRES failures that occur occassionally. \n",
    "\n",
    "# The grid stretching factor needs to be checked in the github source\n",
    "# This may help the afwully ill-conditioned results from the continuation in something that actually calculates. \n",
    "\n",
    "\n",
    "# At lower resolutions the Bifurcations happens at different values, but I am beginning to doubt \n",
    "# the validity of the eigenvalue algorithm. Or the \n",
    "\n",
    "#Find bifurecation at Re = ~8750 around e = 2.5j, ONLY when nx=50.  \n",
    "targets = [8000,8500,9000,9500,10000]\n",
    "\n",
    "#Find bifurecation at Re = ~6100 around e = 2.5j, ONLY when nx=32. MINIMAL nx that gives plausible results. \n",
    "#targets = [5000,5500,5750,6000,6250,6500,7000,7500,8000]\n",
    "\n",
    "#Find no bifurecation at all ONLY when nx=16. The resolution is just too small, even for a normalish solution. \n",
    "#targets = [4000,5000,6000,7000,8000,9000,10000,11000,12000,13000]\n",
    "\n",
    "\n",
    "\n",
    "# Define the problem\n",
    "parameters = {'Problem Type': 'Lid-driven cavity',\n",
    "              # Problem parametes\n",
    "              'Reynolds Number': starting_re,\n",
    "              'Lid Velocity': 0,\n",
    "              'Grid Stretching Factor': 1.5,\n",
    "              'Verbose': False,\n",
    "              # Value describes the value that is traced in the continuation\n",
    "              # and time integration methods\n",
    "              'Value': lambda x: utils.create_state_mtx(x, nx, ny, nz, dof)[poi[0], poi[1], 0, 0]}\n",
    "\n",
    "interface = Interface(parameters, nx, ny, nz, dim, dof)\n",
    "\n",
    "continuation = Continuation(interface, parameters)\n",
    "\n",
    "# Compute an initial guess\n",
    "x0 = numpy.zeros(dof * nx * ny * nz)\n",
    "steady_sol = continuation.continuation(x0, 'Lid Velocity', 0, 1, 0.05)[0]\n",
    "print(\"Finished calculating starting solution for nx=ny={}\".format(nx))\n",
    "print()\n",
    "\n",
    "\n",
    "ds = 40\n",
    "\n",
    "\n",
    "eigs = numpy.zeros([len(targets), eigs_per_calc ], dtype=numpy.complex128)\n",
    "    \n",
    "sol = steady_sol\n",
    "\n",
    "Re = starting_re\n",
    "previous_subspaces = None\n",
    "i = 0\n",
    "for target in targets:\n",
    "    \n",
    "    # dont really need the data output here. So that is scratched. \n",
    "    # contine to each Re point. \n",
    "    sol, Re, _ = continuation.continuation(sol, 'Reynolds Number', Re, target, ds)\n",
    "    \n",
    "    \n",
    "    # this eigenvalue calculation is the same as the JVM lib uses in its examples. \n",
    "    # slightly modified for input, but largely the same. \n",
    "    print(\"start eigenvalue calc...\")\n",
    "    jac_op = JadaOp(interface.jacobian(sol))\n",
    "    mass_op = JadaOp(interface.mass_matrix())\n",
    "    jada_interface = JadaInterface(interface, jac_op, mass_op, n, numpy.complex128)\n",
    "    \n",
    "    \n",
    "    #print(interface.mass_matrix())\n",
    "    alpha, beta, q, z = jdqz.jdqz(jac_op, mass_op, tol=1e-12, subspace_dimensions=[30, 60], target=3j,\n",
    "                                  interface=None, arithmetic='complex', prec=jada_interface.shifted_prec,\n",
    "                                  return_subspaces=True, initial_subspaces=previous_subspaces)\n",
    "\n",
    "    # Store the generalized eigenvalues, J(x)*v = (a/b) M v, where M is the mass matrix. \n",
    "    eigs[i, :] = alpha / beta\n",
    "\n",
    "    # Use the subspaces in JDQZ computed for this Reynolds number as initial guesses for JDQZ at the next Reynolds number\n",
    "    previous_subspaces = (q, z)\n",
    "    \n",
    "    i = i+1\n",
    "\n",
    "    \n",
    "    \n",
    "    \n",
    "    \n",
    "# Plot the eigenvalues\n",
    "f = plt.figure(figsize=(10,10), dpi= 200, facecolor='w', edgecolor='k')\n",
    "ax = f.subplots()\n",
    "\n",
    "for i in range(eigs.shape[0]):\n",
    "        ax.scatter(eigs[i, :].real, eigs[i, :].imag, marker='+',label='Reynolds equal to ' +str(targets[i]) )\n",
    "        \n",
    "        \n",
    "ax.set_ylim(abs(eigs.imag).min() - 0.1, abs(eigs.imag).max() + 0.1)\n",
    "ax.set_xlim(eigs.real.min() - 0.1, eigs.real.max() + 0.1)\n",
    "\n",
    "\n",
    "# Move left y-axis and bottim x-axis to centre, passing through (0,0)\n",
    "ax.spines['left'].set_position('zero')\n",
    "ax.spines['bottom'].set_position('zero')\n",
    "\n",
    "# Eliminate upper and right axes\n",
    "ax.spines['right'].set_color('none')\n",
    "ax.spines['top'].set_color('none')\n",
    "\n",
    "# Show ticks in the left and lower axes only\n",
    "ax.xaxis.set_ticks_position('bottom')\n",
    "ax.yaxis.set_ticks_position('left')\n",
    "\n",
    "\n",
    "plt.legend()\n",
    "plt.show()\n",
    "\n",
    "\n",
    "\n",
    "\n",
    "\n"
   ]
  },
  {
   "cell_type": "markdown",
   "id": "4e7a3bbf",
   "metadata": {},
   "source": [
    "The graph show that the eigenvalues found for target 3i dim their real value below 0."
   ]
  },
  {
   "cell_type": "code",
   "execution_count": null,
   "id": "b6a990d7",
   "metadata": {},
   "outputs": [],
   "source": []
  },
  {
   "cell_type": "markdown",
   "id": "746b0356",
   "metadata": {},
   "source": [
    "## (e"
   ]
  },
  {
   "cell_type": "code",
   "execution_count": null,
   "id": "8b940f22",
   "metadata": {},
   "outputs": [],
   "source": [
    "sizes = [64, 128, 256]#, 512]\n",
    "dim = 2\n",
    "dof = 3\n",
    "nz = 1\n",
    "\n",
    "for nx in sizes:\n",
    "    print(\"Currently looking at nx=ny={}\".format(nx))\n",
    "    ny = nx\n",
    "    n = dof * nx * ny * nz\n",
    "    poi = (nx // 2 - 1, ny // 4 - 1)\n",
    "\n",
    "    # luckily the FVM lib supports grid strechting.\n",
    "    parameters = {'Problem Type': 'Lid-driven cavity',\n",
    "              'Reynolds Number': 1,\n",
    "              'Lid Velocity': 0,\n",
    "              'Grid Stretching Factor': 1.5,\n",
    "              'Verbose': True,\n",
    "              'Value': lambda x: utils.create_state_mtx(x, nx, ny, nz, dof)[poi[0], poi[1], 0, 0]}\n",
    "\n",
    "    interface = Interface(parameters, nx, ny, nz, dim, dof)\n",
    "\n",
    "    continuation = Continuation(interface, parameters)\n",
    "\n",
    "    # The initial zero sol. \n",
    "    x0 = numpy.zeros(dof * nx * ny * nz)\n",
    "    # Continue this exact sol to the correct Lid velocity.\n",
    "    steady_sol = continuation.continuation(x0, 'Lid Velocity', 0, 1, 0.1)[0]\n",
    "    print(\"Finished calculating starting solution for nx=ny={}\".format(nx))\n",
    "    print()\n",
    "    \n",
    "    # Continue the found branch.\n",
    "    ds = 100\n",
    "    target = 5000\n",
    "    steady_sol_5k, mu, data1 = continuation.continuation(steady_sol, 'Reynolds Number', 0, target, ds)\n",
    "    print(\"Cont finished\")\n",
    "    print()\n",
    "    print()\n",
    "    print()\n",
    "    "
   ]
  },
  {
   "cell_type": "code",
   "execution_count": null,
   "id": "c9a0d4bb",
   "metadata": {},
   "outputs": [],
   "source": []
  },
  {
   "cell_type": "markdown",
   "id": "b695a550",
   "metadata": {},
   "source": [
    "## (f"
   ]
  },
  {
   "cell_type": "code",
   "execution_count": null,
   "id": "774d4b84",
   "metadata": {},
   "outputs": [],
   "source": []
  },
  {
   "cell_type": "code",
   "execution_count": null,
   "id": "48cc8b61",
   "metadata": {},
   "outputs": [],
   "source": []
  },
  {
   "cell_type": "code",
   "execution_count": null,
   "id": "303f71ca",
   "metadata": {},
   "outputs": [],
   "source": []
  },
  {
   "cell_type": "code",
   "execution_count": null,
   "id": "69eb5cfe",
   "metadata": {},
   "outputs": [],
   "source": []
  }
 ],
 "metadata": {
  "kernelspec": {
   "display_name": "Python 3",
   "language": "python",
   "name": "python3"
  },
  "language_info": {
   "codemirror_mode": {
    "name": "ipython",
    "version": 3
   },
   "file_extension": ".py",
   "mimetype": "text/x-python",
   "name": "python",
   "nbconvert_exporter": "python",
   "pygments_lexer": "ipython3",
   "version": "3.9.5"
  }
 },
 "nbformat": 4,
 "nbformat_minor": 5
}
